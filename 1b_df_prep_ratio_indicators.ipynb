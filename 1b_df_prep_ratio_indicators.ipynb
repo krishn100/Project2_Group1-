{
 "cells": [
  {
   "cell_type": "code",
   "execution_count": null,
   "metadata": {},
   "outputs": [],
   "source": [
    "# Import libraries and dependencies\n",
    "import pandas as pd\n",
    "import numpy as np\n",
    "import hvplot.pandas\n",
    "import matplotlib.pyplot as plt\n",
    "from pathlib import Path\n",
    "\n",
    "# Allow for reviewing more of the DataFrames\n",
    "pd.set_option('display.max_rows', 2000)\n",
    "pd.set_option('display.max_columns', 2000)\n",
    "pd.set_option('display.width', 1000)\n",
    "%matplotlib inline\n",
    "\n",
    "# Ignore Warnings\n",
    "import warnings\n",
    "warnings.filterwarnings('ignore')"
   ]
  },
  {
   "cell_type": "code",
   "execution_count": 2,
   "metadata": {},
   "outputs": [],
   "source": [
    "# Read in the CSV files\n",
    "googl_df = pd.read_csv(\"Resources/googl_df.csv\", infer_datetime_format=True, index_col=\"Date\", parse_dates=True)\n",
    "nvda_df = pd.read_csv(\"Resources/nvda_df.csv\", infer_datetime_format=True, index_col=\"Date\", parse_dates=True)\n",
    "mmm_df = pd.read_csv(\"Resources/mmm_df.csv\", infer_datetime_format=True, index_col=\"Date\", parse_dates=True)\n",
    "pg_df = pd.read_csv(\"Resources/pg_df.csv\", infer_datetime_format=True, index_col=\"Date\", parse_dates=True)"
   ]
  },
  {
   "cell_type": "code",
   "execution_count": 3,
   "metadata": {},
   "outputs": [],
   "source": [
    "# Drop unnecessary columns\n",
    "column_drops =['actual_returns', 'sma_fast', 'sma_fast30', 'sma_slow', 'ema_fast', 'ema_fast30', 'ema_slow']\n",
    "\n",
    "for df in (googl_df, nvda_df, mmm_df, pg_df):\n",
    "    df.drop(columns=column_drops, inplace=True)"
   ]
  },
  {
   "cell_type": "code",
   "execution_count": 4,
   "metadata": {},
   "outputs": [],
   "source": [
    "# Create a list of individual stock DataFrame names and columns to feed loops\n",
    "ticker_data = [(googl_df, \"GOOGL Adj. Close\"),(nvda_df, \"NVDA Adj. Close\"),(mmm_df, \"MMM Adj. Close\"),(pg_df, \"PG Adj. Close\")]"
   ]
  },
  {
   "cell_type": "code",
   "execution_count": 5,
   "metadata": {},
   "outputs": [],
   "source": [
    "# Loop to add actual_returns based on percentage change of Adj. Close column\n",
    "for df_name, column_name in ticker_data:\n",
    "    df_name[\"actual_returns\"] = df_name[column_name].pct_change()"
   ]
  },
  {
   "cell_type": "code",
   "execution_count": 6,
   "metadata": {},
   "outputs": [],
   "source": [
    "# Create a list of tuples to feed the loop for the individual stock DataFrames and financial ratios\n",
    "ticker_data_all = [\n",
    "    (googl_df, [(\"GOOGL P/S (LTM)\", \"ps\"), (\"GOOGL P/FCF (LTM)\", \"pfcf\"), (\"GOOGL P/E (LTM)\", \"pe\")]),\n",
    "    (nvda_df, [(\"NVDA P/S (LTM)\", \"ps\"), (\"NVDA P/FCF (LTM)\", \"pfcf\"), (\"NVDA P/E (LTM)\", \"pe\")]),\n",
    "    (mmm_df, [(\"MMM P/S (LTM)\", \"ps\"), (\"MMM P/FCF (LTM)\", \"pfcf\"), (\"MMM P/E (LTM)\", \"pe\")]),\n",
    "    (pg_df, [(\"PG P/S (LTM)\", \"ps\"), (\"PG P/FCF (LTM)\", \"pfcf\"), (\"PG P/E (LTM)\", \"pe\")]),\n",
    "]"
   ]
  },
  {
   "cell_type": "code",
   "execution_count": 7,
   "metadata": {},
   "outputs": [],
   "source": [
    "# Loop to generate SMA and EMA (10-, 30-, 100-day windows) for each ticker (all ratios)\n",
    "for df, metrics in ticker_data_all:\n",
    "    for column_name, prefix in metrics:\n",
    "        # Generate SMA and EMA (10-, 30-, 100-day windows) for each ticker (all ratios)\n",
    "        df[f\"{prefix}_sma_fast\"] = df[column_name].rolling(window=10).mean()\n",
    "        df[f\"{prefix}_sma_fast30\"] = df[column_name].rolling(window=30).mean()\n",
    "        df[f\"{prefix}_sma_slow\"] = df[column_name].rolling(window=100).mean()\n",
    "        df[f\"{prefix}_ema_fast\"] = df[column_name].ewm(span=10, adjust=False).mean()\n",
    "        df[f\"{prefix}_ema_fast30\"] = df[column_name].ewm(span=30, adjust=False).mean()\n",
    "        df[f\"{prefix}_ema_slow\"] = df[column_name].ewm(span=100, adjust=False).mean()"
   ]
  },
  {
   "cell_type": "markdown",
   "metadata": {},
   "source": [
    "#### Storing individual stock DataFrames with SMA and EMA (10-, 30-, 100-day windows) to Resources folder"
   ]
  },
  {
   "cell_type": "code",
   "execution_count": 8,
   "metadata": {},
   "outputs": [],
   "source": [
    "# Write individual stock DFs w/ SMA, EMA, and Bollinger Bands/RSI generated with all ratios data to CSV files\n",
    "googl_df.to_csv('Resources/googl_ratio_indicators.csv', index=True)\n",
    "nvda_df.to_csv('Resources/nvda_ratio_indicators.csv', index=True)\n",
    "mmm_df.to_csv('Resources/mmm_ratio_indicators.csv', index=True)\n",
    "pg_df.to_csv('Resources/pg_ratio_indicators.csv', index=True)"
   ]
  }
 ],
 "metadata": {
  "kernelspec": {
   "display_name": "algotrading",
   "language": "python",
   "name": "python3"
  },
  "language_info": {
   "codemirror_mode": {
    "name": "ipython",
    "version": 3
   },
   "file_extension": ".py",
   "mimetype": "text/x-python",
   "name": "python",
   "nbconvert_exporter": "python",
   "pygments_lexer": "ipython3",
   "version": "3.10.13"
  }
 },
 "nbformat": 4,
 "nbformat_minor": 2
}
