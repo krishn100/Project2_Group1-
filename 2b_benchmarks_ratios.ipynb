{
 "cells": [
  {
   "cell_type": "code",
   "execution_count": 1,
   "metadata": {},
   "outputs": [
    {
     "data": {
      "application/javascript": "(function(root) {\n  function now() {\n    return new Date();\n  }\n\n  var force = true;\n  var py_version = '3.3.4'.replace('rc', '-rc.').replace('.dev', '-dev.');\n  var reloading = false;\n  var Bokeh = root.Bokeh;\n\n  if (typeof (root._bokeh_timeout) === \"undefined\" || force) {\n    root._bokeh_timeout = Date.now() + 5000;\n    root._bokeh_failed_load = false;\n  }\n\n  function run_callbacks() {\n    try {\n      root._bokeh_onload_callbacks.forEach(function(callback) {\n        if (callback != null)\n          callback();\n      });\n    } finally {\n      delete root._bokeh_onload_callbacks;\n    }\n    console.debug(\"Bokeh: all callbacks have finished\");\n  }\n\n  function load_libs(css_urls, js_urls, js_modules, js_exports, callback) {\n    if (css_urls == null) css_urls = [];\n    if (js_urls == null) js_urls = [];\n    if (js_modules == null) js_modules = [];\n    if (js_exports == null) js_exports = {};\n\n    root._bokeh_onload_callbacks.push(callback);\n\n    if (root._bokeh_is_loading > 0) {\n      console.debug(\"Bokeh: BokehJS is being loaded, scheduling callback at\", now());\n      return null;\n    }\n    if (js_urls.length === 0 && js_modules.length === 0 && Object.keys(js_exports).length === 0) {\n      run_callbacks();\n      return null;\n    }\n    if (!reloading) {\n      console.debug(\"Bokeh: BokehJS not loaded, scheduling load and callback at\", now());\n    }\n\n    function on_load() {\n      root._bokeh_is_loading--;\n      if (root._bokeh_is_loading === 0) {\n        console.debug(\"Bokeh: all BokehJS libraries/stylesheets loaded\");\n        run_callbacks()\n      }\n    }\n    window._bokeh_on_load = on_load\n\n    function on_error() {\n      console.error(\"failed to load \" + url);\n    }\n\n    var skip = [];\n    if (window.requirejs) {\n      window.requirejs.config({'packages': {}, 'paths': {'jspanel': 'https://cdn.jsdelivr.net/npm/jspanel4@4.12.0/dist/jspanel', 'jspanel-modal': 'https://cdn.jsdelivr.net/npm/jspanel4@4.12.0/dist/extensions/modal/jspanel.modal', 'jspanel-tooltip': 'https://cdn.jsdelivr.net/npm/jspanel4@4.12.0/dist/extensions/tooltip/jspanel.tooltip', 'jspanel-hint': 'https://cdn.jsdelivr.net/npm/jspanel4@4.12.0/dist/extensions/hint/jspanel.hint', 'jspanel-layout': 'https://cdn.jsdelivr.net/npm/jspanel4@4.12.0/dist/extensions/layout/jspanel.layout', 'jspanel-contextmenu': 'https://cdn.jsdelivr.net/npm/jspanel4@4.12.0/dist/extensions/contextmenu/jspanel.contextmenu', 'jspanel-dock': 'https://cdn.jsdelivr.net/npm/jspanel4@4.12.0/dist/extensions/dock/jspanel.dock', 'gridstack': 'https://cdn.jsdelivr.net/npm/gridstack@7.2.3/dist/gridstack-all', 'notyf': 'https://cdn.jsdelivr.net/npm/notyf@3/notyf.min'}, 'shim': {'jspanel': {'exports': 'jsPanel'}, 'gridstack': {'exports': 'GridStack'}}});\n      require([\"jspanel\"], function(jsPanel) {\n\twindow.jsPanel = jsPanel\n\ton_load()\n      })\n      require([\"jspanel-modal\"], function() {\n\ton_load()\n      })\n      require([\"jspanel-tooltip\"], function() {\n\ton_load()\n      })\n      require([\"jspanel-hint\"], function() {\n\ton_load()\n      })\n      require([\"jspanel-layout\"], function() {\n\ton_load()\n      })\n      require([\"jspanel-contextmenu\"], function() {\n\ton_load()\n      })\n      require([\"jspanel-dock\"], function() {\n\ton_load()\n      })\n      require([\"gridstack\"], function(GridStack) {\n\twindow.GridStack = GridStack\n\ton_load()\n      })\n      require([\"notyf\"], function() {\n\ton_load()\n      })\n      root._bokeh_is_loading = css_urls.length + 9;\n    } else {\n      root._bokeh_is_loading = css_urls.length + js_urls.length + js_modules.length + Object.keys(js_exports).length;\n    }\n\n    var existing_stylesheets = []\n    var links = document.getElementsByTagName('link')\n    for (var i = 0; i < links.length; i++) {\n      var link = links[i]\n      if (link.href != null) {\n\texisting_stylesheets.push(link.href)\n      }\n    }\n    for (var i = 0; i < css_urls.length; i++) {\n      var url = css_urls[i];\n      if (existing_stylesheets.indexOf(url) !== -1) {\n\ton_load()\n\tcontinue;\n      }\n      const element = document.createElement(\"link\");\n      element.onload = on_load;\n      element.onerror = on_error;\n      element.rel = \"stylesheet\";\n      element.type = \"text/css\";\n      element.href = url;\n      console.debug(\"Bokeh: injecting link tag for BokehJS stylesheet: \", url);\n      document.body.appendChild(element);\n    }    if (((window['jsPanel'] !== undefined) && (!(window['jsPanel'] instanceof HTMLElement))) || window.requirejs) {\n      var urls = ['https://cdn.holoviz.org/panel/1.3.8/dist/bundled/floatpanel/jspanel4@4.12.0/dist/jspanel.js', 'https://cdn.holoviz.org/panel/1.3.8/dist/bundled/floatpanel/jspanel4@4.12.0/dist/extensions/modal/jspanel.modal.js', 'https://cdn.holoviz.org/panel/1.3.8/dist/bundled/floatpanel/jspanel4@4.12.0/dist/extensions/tooltip/jspanel.tooltip.js', 'https://cdn.holoviz.org/panel/1.3.8/dist/bundled/floatpanel/jspanel4@4.12.0/dist/extensions/hint/jspanel.hint.js', 'https://cdn.holoviz.org/panel/1.3.8/dist/bundled/floatpanel/jspanel4@4.12.0/dist/extensions/layout/jspanel.layout.js', 'https://cdn.holoviz.org/panel/1.3.8/dist/bundled/floatpanel/jspanel4@4.12.0/dist/extensions/contextmenu/jspanel.contextmenu.js', 'https://cdn.holoviz.org/panel/1.3.8/dist/bundled/floatpanel/jspanel4@4.12.0/dist/extensions/dock/jspanel.dock.js'];\n      for (var i = 0; i < urls.length; i++) {\n        skip.push(urls[i])\n      }\n    }    if (((window['GridStack'] !== undefined) && (!(window['GridStack'] instanceof HTMLElement))) || window.requirejs) {\n      var urls = ['https://cdn.holoviz.org/panel/1.3.8/dist/bundled/gridstack/gridstack@7.2.3/dist/gridstack-all.js'];\n      for (var i = 0; i < urls.length; i++) {\n        skip.push(urls[i])\n      }\n    }    if (((window['Notyf'] !== undefined) && (!(window['Notyf'] instanceof HTMLElement))) || window.requirejs) {\n      var urls = ['https://cdn.holoviz.org/panel/1.3.8/dist/bundled/notificationarea/notyf@3/notyf.min.js'];\n      for (var i = 0; i < urls.length; i++) {\n        skip.push(urls[i])\n      }\n    }    var existing_scripts = []\n    var scripts = document.getElementsByTagName('script')\n    for (var i = 0; i < scripts.length; i++) {\n      var script = scripts[i]\n      if (script.src != null) {\n\texisting_scripts.push(script.src)\n      }\n    }\n    for (var i = 0; i < js_urls.length; i++) {\n      var url = js_urls[i];\n      if (skip.indexOf(url) !== -1 || existing_scripts.indexOf(url) !== -1) {\n\tif (!window.requirejs) {\n\t  on_load();\n\t}\n\tcontinue;\n      }\n      var element = document.createElement('script');\n      element.onload = on_load;\n      element.onerror = on_error;\n      element.async = false;\n      element.src = url;\n      console.debug(\"Bokeh: injecting script tag for BokehJS library: \", url);\n      document.head.appendChild(element);\n    }\n    for (var i = 0; i < js_modules.length; i++) {\n      var url = js_modules[i];\n      if (skip.indexOf(url) !== -1 || existing_scripts.indexOf(url) !== -1) {\n\tif (!window.requirejs) {\n\t  on_load();\n\t}\n\tcontinue;\n      }\n      var element = document.createElement('script');\n      element.onload = on_load;\n      element.onerror = on_error;\n      element.async = false;\n      element.src = url;\n      element.type = \"module\";\n      console.debug(\"Bokeh: injecting script tag for BokehJS library: \", url);\n      document.head.appendChild(element);\n    }\n    for (const name in js_exports) {\n      var url = js_exports[name];\n      if (skip.indexOf(url) >= 0 || root[name] != null) {\n\tif (!window.requirejs) {\n\t  on_load();\n\t}\n\tcontinue;\n      }\n      var element = document.createElement('script');\n      element.onerror = on_error;\n      element.async = false;\n      element.type = \"module\";\n      console.debug(\"Bokeh: injecting script tag for BokehJS library: \", url);\n      element.textContent = `\n      import ${name} from \"${url}\"\n      window.${name} = ${name}\n      window._bokeh_on_load()\n      `\n      document.head.appendChild(element);\n    }\n    if (!js_urls.length && !js_modules.length) {\n      on_load()\n    }\n  };\n\n  function inject_raw_css(css) {\n    const element = document.createElement(\"style\");\n    element.appendChild(document.createTextNode(css));\n    document.body.appendChild(element);\n  }\n\n  var js_urls = [\"https://cdn.bokeh.org/bokeh/release/bokeh-3.3.4.min.js\", \"https://cdn.bokeh.org/bokeh/release/bokeh-gl-3.3.4.min.js\", \"https://cdn.bokeh.org/bokeh/release/bokeh-widgets-3.3.4.min.js\", \"https://cdn.bokeh.org/bokeh/release/bokeh-tables-3.3.4.min.js\", \"https://cdn.holoviz.org/panel/1.3.8/dist/panel.min.js\"];\n  var js_modules = [];\n  var js_exports = {};\n  var css_urls = [];\n  var inline_js = [    function(Bokeh) {\n      Bokeh.set_log_level(\"info\");\n    },\nfunction(Bokeh) {} // ensure no trailing comma for IE\n  ];\n\n  function run_inline_js() {\n    if ((root.Bokeh !== undefined) || (force === true)) {\n      for (var i = 0; i < inline_js.length; i++) {\n\ttry {\n          inline_js[i].call(root, root.Bokeh);\n\t} catch(e) {\n\t  if (!reloading) {\n\t    throw e;\n\t  }\n\t}\n      }\n      // Cache old bokeh versions\n      if (Bokeh != undefined && !reloading) {\n\tvar NewBokeh = root.Bokeh;\n\tif (Bokeh.versions === undefined) {\n\t  Bokeh.versions = new Map();\n\t}\n\tif (NewBokeh.version !== Bokeh.version) {\n\t  Bokeh.versions.set(NewBokeh.version, NewBokeh)\n\t}\n\troot.Bokeh = Bokeh;\n      }} else if (Date.now() < root._bokeh_timeout) {\n      setTimeout(run_inline_js, 100);\n    } else if (!root._bokeh_failed_load) {\n      console.log(\"Bokeh: BokehJS failed to load within specified timeout.\");\n      root._bokeh_failed_load = true;\n    }\n    root._bokeh_is_initializing = false\n  }\n\n  function load_or_wait() {\n    // Implement a backoff loop that tries to ensure we do not load multiple\n    // versions of Bokeh and its dependencies at the same time.\n    // In recent versions we use the root._bokeh_is_initializing flag\n    // to determine whether there is an ongoing attempt to initialize\n    // bokeh, however for backward compatibility we also try to ensure\n    // that we do not start loading a newer (Panel>=1.0 and Bokeh>3) version\n    // before older versions are fully initialized.\n    if (root._bokeh_is_initializing && Date.now() > root._bokeh_timeout) {\n      root._bokeh_is_initializing = false;\n      root._bokeh_onload_callbacks = undefined;\n      console.log(\"Bokeh: BokehJS was loaded multiple times but one version failed to initialize.\");\n      load_or_wait();\n    } else if (root._bokeh_is_initializing || (typeof root._bokeh_is_initializing === \"undefined\" && root._bokeh_onload_callbacks !== undefined)) {\n      setTimeout(load_or_wait, 100);\n    } else {\n      root._bokeh_is_initializing = true\n      root._bokeh_onload_callbacks = []\n      var bokeh_loaded = Bokeh != null && (Bokeh.version === py_version || (Bokeh.versions !== undefined && Bokeh.versions.has(py_version)));\n      if (!reloading && !bokeh_loaded) {\n\troot.Bokeh = undefined;\n      }\n      load_libs(css_urls, js_urls, js_modules, js_exports, function() {\n\tconsole.debug(\"Bokeh: BokehJS plotting callback run at\", now());\n\trun_inline_js();\n      });\n    }\n  }\n  // Give older versions of the autoload script a head-start to ensure\n  // they initialize before we start loading newer version.\n  setTimeout(load_or_wait, 100)\n}(window));",
      "application/vnd.holoviews_load.v0+json": ""
     },
     "metadata": {},
     "output_type": "display_data"
    },
    {
     "data": {
      "application/javascript": "\nif ((window.PyViz === undefined) || (window.PyViz instanceof HTMLElement)) {\n  window.PyViz = {comms: {}, comm_status:{}, kernels:{}, receivers: {}, plot_index: []}\n}\n\n\n    function JupyterCommManager() {\n    }\n\n    JupyterCommManager.prototype.register_target = function(plot_id, comm_id, msg_handler) {\n      if (window.comm_manager || ((window.Jupyter !== undefined) && (Jupyter.notebook.kernel != null))) {\n        var comm_manager = window.comm_manager || Jupyter.notebook.kernel.comm_manager;\n        comm_manager.register_target(comm_id, function(comm) {\n          comm.on_msg(msg_handler);\n        });\n      } else if ((plot_id in window.PyViz.kernels) && (window.PyViz.kernels[plot_id])) {\n        window.PyViz.kernels[plot_id].registerCommTarget(comm_id, function(comm) {\n          comm.onMsg = msg_handler;\n        });\n      } else if (typeof google != 'undefined' && google.colab.kernel != null) {\n        google.colab.kernel.comms.registerTarget(comm_id, (comm) => {\n          var messages = comm.messages[Symbol.asyncIterator]();\n          function processIteratorResult(result) {\n            var message = result.value;\n            console.log(message)\n            var content = {data: message.data, comm_id};\n            var buffers = []\n            for (var buffer of message.buffers || []) {\n              buffers.push(new DataView(buffer))\n            }\n            var metadata = message.metadata || {};\n            var msg = {content, buffers, metadata}\n            msg_handler(msg);\n            return messages.next().then(processIteratorResult);\n          }\n          return messages.next().then(processIteratorResult);\n        })\n      }\n    }\n\n    JupyterCommManager.prototype.get_client_comm = function(plot_id, comm_id, msg_handler) {\n      if (comm_id in window.PyViz.comms) {\n        return window.PyViz.comms[comm_id];\n      } else if (window.comm_manager || ((window.Jupyter !== undefined) && (Jupyter.notebook.kernel != null))) {\n        var comm_manager = window.comm_manager || Jupyter.notebook.kernel.comm_manager;\n        var comm = comm_manager.new_comm(comm_id, {}, {}, {}, comm_id);\n        if (msg_handler) {\n          comm.on_msg(msg_handler);\n        }\n      } else if ((plot_id in window.PyViz.kernels) && (window.PyViz.kernels[plot_id])) {\n        var comm = window.PyViz.kernels[plot_id].connectToComm(comm_id);\n        comm.open();\n        if (msg_handler) {\n          comm.onMsg = msg_handler;\n        }\n      } else if (typeof google != 'undefined' && google.colab.kernel != null) {\n        var comm_promise = google.colab.kernel.comms.open(comm_id)\n        comm_promise.then((comm) => {\n          window.PyViz.comms[comm_id] = comm;\n          if (msg_handler) {\n            var messages = comm.messages[Symbol.asyncIterator]();\n            function processIteratorResult(result) {\n              var message = result.value;\n              var content = {data: message.data};\n              var metadata = message.metadata || {comm_id};\n              var msg = {content, metadata}\n              msg_handler(msg);\n              return messages.next().then(processIteratorResult);\n            }\n            return messages.next().then(processIteratorResult);\n          }\n        }) \n        var sendClosure = (data, metadata, buffers, disposeOnDone) => {\n          return comm_promise.then((comm) => {\n            comm.send(data, metadata, buffers, disposeOnDone);\n          });\n        };\n        var comm = {\n          send: sendClosure\n        };\n      }\n      window.PyViz.comms[comm_id] = comm;\n      return comm;\n    }\n    window.PyViz.comm_manager = new JupyterCommManager();\n    \n\n\nvar JS_MIME_TYPE = 'application/javascript';\nvar HTML_MIME_TYPE = 'text/html';\nvar EXEC_MIME_TYPE = 'application/vnd.holoviews_exec.v0+json';\nvar CLASS_NAME = 'output';\n\n/**\n * Render data to the DOM node\n */\nfunction render(props, node) {\n  var div = document.createElement(\"div\");\n  var script = document.createElement(\"script\");\n  node.appendChild(div);\n  node.appendChild(script);\n}\n\n/**\n * Handle when a new output is added\n */\nfunction handle_add_output(event, handle) {\n  var output_area = handle.output_area;\n  var output = handle.output;\n  if ((output.data == undefined) || (!output.data.hasOwnProperty(EXEC_MIME_TYPE))) {\n    return\n  }\n  var id = output.metadata[EXEC_MIME_TYPE][\"id\"];\n  var toinsert = output_area.element.find(\".\" + CLASS_NAME.split(' ')[0]);\n  if (id !== undefined) {\n    var nchildren = toinsert.length;\n    var html_node = toinsert[nchildren-1].children[0];\n    html_node.innerHTML = output.data[HTML_MIME_TYPE];\n    var scripts = [];\n    var nodelist = html_node.querySelectorAll(\"script\");\n    for (var i in nodelist) {\n      if (nodelist.hasOwnProperty(i)) {\n        scripts.push(nodelist[i])\n      }\n    }\n\n    scripts.forEach( function (oldScript) {\n      var newScript = document.createElement(\"script\");\n      var attrs = [];\n      var nodemap = oldScript.attributes;\n      for (var j in nodemap) {\n        if (nodemap.hasOwnProperty(j)) {\n          attrs.push(nodemap[j])\n        }\n      }\n      attrs.forEach(function(attr) { newScript.setAttribute(attr.name, attr.value) });\n      newScript.appendChild(document.createTextNode(oldScript.innerHTML));\n      oldScript.parentNode.replaceChild(newScript, oldScript);\n    });\n    if (JS_MIME_TYPE in output.data) {\n      toinsert[nchildren-1].children[1].textContent = output.data[JS_MIME_TYPE];\n    }\n    output_area._hv_plot_id = id;\n    if ((window.Bokeh !== undefined) && (id in Bokeh.index)) {\n      window.PyViz.plot_index[id] = Bokeh.index[id];\n    } else {\n      window.PyViz.plot_index[id] = null;\n    }\n  } else if (output.metadata[EXEC_MIME_TYPE][\"server_id\"] !== undefined) {\n    var bk_div = document.createElement(\"div\");\n    bk_div.innerHTML = output.data[HTML_MIME_TYPE];\n    var script_attrs = bk_div.children[0].attributes;\n    for (var i = 0; i < script_attrs.length; i++) {\n      toinsert[toinsert.length - 1].childNodes[1].setAttribute(script_attrs[i].name, script_attrs[i].value);\n    }\n    // store reference to server id on output_area\n    output_area._bokeh_server_id = output.metadata[EXEC_MIME_TYPE][\"server_id\"];\n  }\n}\n\n/**\n * Handle when an output is cleared or removed\n */\nfunction handle_clear_output(event, handle) {\n  var id = handle.cell.output_area._hv_plot_id;\n  var server_id = handle.cell.output_area._bokeh_server_id;\n  if (((id === undefined) || !(id in PyViz.plot_index)) && (server_id !== undefined)) { return; }\n  var comm = window.PyViz.comm_manager.get_client_comm(\"hv-extension-comm\", \"hv-extension-comm\", function () {});\n  if (server_id !== null) {\n    comm.send({event_type: 'server_delete', 'id': server_id});\n    return;\n  } else if (comm !== null) {\n    comm.send({event_type: 'delete', 'id': id});\n  }\n  delete PyViz.plot_index[id];\n  if ((window.Bokeh !== undefined) & (id in window.Bokeh.index)) {\n    var doc = window.Bokeh.index[id].model.document\n    doc.clear();\n    const i = window.Bokeh.documents.indexOf(doc);\n    if (i > -1) {\n      window.Bokeh.documents.splice(i, 1);\n    }\n  }\n}\n\n/**\n * Handle kernel restart event\n */\nfunction handle_kernel_cleanup(event, handle) {\n  delete PyViz.comms[\"hv-extension-comm\"];\n  window.PyViz.plot_index = {}\n}\n\n/**\n * Handle update_display_data messages\n */\nfunction handle_update_output(event, handle) {\n  handle_clear_output(event, {cell: {output_area: handle.output_area}})\n  handle_add_output(event, handle)\n}\n\nfunction register_renderer(events, OutputArea) {\n  function append_mime(data, metadata, element) {\n    // create a DOM node to render to\n    var toinsert = this.create_output_subarea(\n    metadata,\n    CLASS_NAME,\n    EXEC_MIME_TYPE\n    );\n    this.keyboard_manager.register_events(toinsert);\n    // Render to node\n    var props = {data: data, metadata: metadata[EXEC_MIME_TYPE]};\n    render(props, toinsert[0]);\n    element.append(toinsert);\n    return toinsert\n  }\n\n  events.on('output_added.OutputArea', handle_add_output);\n  events.on('output_updated.OutputArea', handle_update_output);\n  events.on('clear_output.CodeCell', handle_clear_output);\n  events.on('delete.Cell', handle_clear_output);\n  events.on('kernel_ready.Kernel', handle_kernel_cleanup);\n\n  OutputArea.prototype.register_mime_type(EXEC_MIME_TYPE, append_mime, {\n    safe: true,\n    index: 0\n  });\n}\n\nif (window.Jupyter !== undefined) {\n  try {\n    var events = require('base/js/events');\n    var OutputArea = require('notebook/js/outputarea').OutputArea;\n    if (OutputArea.prototype.mime_types().indexOf(EXEC_MIME_TYPE) == -1) {\n      register_renderer(events, OutputArea);\n    }\n  } catch(err) {\n  }\n}\n",
      "application/vnd.holoviews_load.v0+json": ""
     },
     "metadata": {},
     "output_type": "display_data"
    },
    {
     "data": {
      "text/html": [
       "<style>*[data-root-id],\n",
       "*[data-root-id] > * {\n",
       "  box-sizing: border-box;\n",
       "  font-family: var(--jp-ui-font-family);\n",
       "  font-size: var(--jp-ui-font-size1);\n",
       "  color: var(--vscode-editor-foreground, var(--jp-ui-font-color1));\n",
       "}\n",
       "\n",
       "/* Override VSCode background color */\n",
       ".cell-output-ipywidget-background:has(\n",
       "    > .cell-output-ipywidget-background > .lm-Widget > *[data-root-id]\n",
       "  ),\n",
       ".cell-output-ipywidget-background:has(> .lm-Widget > *[data-root-id]) {\n",
       "  background-color: transparent !important;\n",
       "}\n",
       "</style>"
      ]
     },
     "metadata": {},
     "output_type": "display_data"
    },
    {
     "data": {
      "application/vnd.holoviews_exec.v0+json": "",
      "text/html": [
       "<div id='p1002'>\n",
       "  <div id=\"b4d66e9d-65f1-46a7-8763-c1d464bce2ac\" data-root-id=\"p1002\" style=\"display: contents;\"></div>\n",
       "</div>\n",
       "<script type=\"application/javascript\">(function(root) {\n",
       "  var docs_json = {\"f1da0ab7-c0da-4552-88e4-a540730c8bad\":{\"version\":\"3.3.4\",\"title\":\"Bokeh Application\",\"roots\":[{\"type\":\"object\",\"name\":\"panel.models.browser.BrowserInfo\",\"id\":\"p1002\"},{\"type\":\"object\",\"name\":\"panel.models.comm_manager.CommManager\",\"id\":\"p1003\",\"attributes\":{\"plot_id\":\"p1002\",\"comm_id\":\"b07ad8107f37496bb738721d9c465f3e\",\"client_comm_id\":\"9dbea49de02f42c6a9b24da37705939e\"}}],\"defs\":[{\"type\":\"model\",\"name\":\"ReactiveHTML1\"},{\"type\":\"model\",\"name\":\"FlexBox1\",\"properties\":[{\"name\":\"align_content\",\"kind\":\"Any\",\"default\":\"flex-start\"},{\"name\":\"align_items\",\"kind\":\"Any\",\"default\":\"flex-start\"},{\"name\":\"flex_direction\",\"kind\":\"Any\",\"default\":\"row\"},{\"name\":\"flex_wrap\",\"kind\":\"Any\",\"default\":\"wrap\"},{\"name\":\"justify_content\",\"kind\":\"Any\",\"default\":\"flex-start\"}]},{\"type\":\"model\",\"name\":\"FloatPanel1\",\"properties\":[{\"name\":\"config\",\"kind\":\"Any\",\"default\":{\"type\":\"map\"}},{\"name\":\"contained\",\"kind\":\"Any\",\"default\":true},{\"name\":\"position\",\"kind\":\"Any\",\"default\":\"right-top\"},{\"name\":\"offsetx\",\"kind\":\"Any\",\"default\":null},{\"name\":\"offsety\",\"kind\":\"Any\",\"default\":null},{\"name\":\"theme\",\"kind\":\"Any\",\"default\":\"primary\"},{\"name\":\"status\",\"kind\":\"Any\",\"default\":\"normalized\"}]},{\"type\":\"model\",\"name\":\"GridStack1\",\"properties\":[{\"name\":\"mode\",\"kind\":\"Any\",\"default\":\"warn\"},{\"name\":\"ncols\",\"kind\":\"Any\",\"default\":null},{\"name\":\"nrows\",\"kind\":\"Any\",\"default\":null},{\"name\":\"allow_resize\",\"kind\":\"Any\",\"default\":true},{\"name\":\"allow_drag\",\"kind\":\"Any\",\"default\":true},{\"name\":\"state\",\"kind\":\"Any\",\"default\":[]}]},{\"type\":\"model\",\"name\":\"drag1\",\"properties\":[{\"name\":\"slider_width\",\"kind\":\"Any\",\"default\":5},{\"name\":\"slider_color\",\"kind\":\"Any\",\"default\":\"black\"},{\"name\":\"value\",\"kind\":\"Any\",\"default\":50}]},{\"type\":\"model\",\"name\":\"click1\",\"properties\":[{\"name\":\"terminal_output\",\"kind\":\"Any\",\"default\":\"\"},{\"name\":\"debug_name\",\"kind\":\"Any\",\"default\":\"\"},{\"name\":\"clears\",\"kind\":\"Any\",\"default\":0}]},{\"type\":\"model\",\"name\":\"copy_to_clipboard1\",\"properties\":[{\"name\":\"fill\",\"kind\":\"Any\",\"default\":\"none\"},{\"name\":\"value\",\"kind\":\"Any\",\"default\":null}]},{\"type\":\"model\",\"name\":\"FastWrapper1\",\"properties\":[{\"name\":\"object\",\"kind\":\"Any\",\"default\":null},{\"name\":\"style\",\"kind\":\"Any\",\"default\":null}]},{\"type\":\"model\",\"name\":\"NotificationAreaBase1\",\"properties\":[{\"name\":\"js_events\",\"kind\":\"Any\",\"default\":{\"type\":\"map\"}},{\"name\":\"position\",\"kind\":\"Any\",\"default\":\"bottom-right\"},{\"name\":\"_clear\",\"kind\":\"Any\",\"default\":0}]},{\"type\":\"model\",\"name\":\"NotificationArea1\",\"properties\":[{\"name\":\"js_events\",\"kind\":\"Any\",\"default\":{\"type\":\"map\"}},{\"name\":\"notifications\",\"kind\":\"Any\",\"default\":[]},{\"name\":\"position\",\"kind\":\"Any\",\"default\":\"bottom-right\"},{\"name\":\"_clear\",\"kind\":\"Any\",\"default\":0},{\"name\":\"types\",\"kind\":\"Any\",\"default\":[{\"type\":\"map\",\"entries\":[[\"type\",\"warning\"],[\"background\",\"#ffc107\"],[\"icon\",{\"type\":\"map\",\"entries\":[[\"className\",\"fas fa-exclamation-triangle\"],[\"tagName\",\"i\"],[\"color\",\"white\"]]}]]},{\"type\":\"map\",\"entries\":[[\"type\",\"info\"],[\"background\",\"#007bff\"],[\"icon\",{\"type\":\"map\",\"entries\":[[\"className\",\"fas fa-info-circle\"],[\"tagName\",\"i\"],[\"color\",\"white\"]]}]]}]}]},{\"type\":\"model\",\"name\":\"Notification\",\"properties\":[{\"name\":\"background\",\"kind\":\"Any\",\"default\":null},{\"name\":\"duration\",\"kind\":\"Any\",\"default\":3000},{\"name\":\"icon\",\"kind\":\"Any\",\"default\":null},{\"name\":\"message\",\"kind\":\"Any\",\"default\":\"\"},{\"name\":\"notification_type\",\"kind\":\"Any\",\"default\":null},{\"name\":\"_destroyed\",\"kind\":\"Any\",\"default\":false}]},{\"type\":\"model\",\"name\":\"TemplateActions1\",\"properties\":[{\"name\":\"open_modal\",\"kind\":\"Any\",\"default\":0},{\"name\":\"close_modal\",\"kind\":\"Any\",\"default\":0}]},{\"type\":\"model\",\"name\":\"BootstrapTemplateActions1\",\"properties\":[{\"name\":\"open_modal\",\"kind\":\"Any\",\"default\":0},{\"name\":\"close_modal\",\"kind\":\"Any\",\"default\":0}]},{\"type\":\"model\",\"name\":\"MaterialTemplateActions1\",\"properties\":[{\"name\":\"open_modal\",\"kind\":\"Any\",\"default\":0},{\"name\":\"close_modal\",\"kind\":\"Any\",\"default\":0}]}]}};\n",
       "  var render_items = [{\"docid\":\"f1da0ab7-c0da-4552-88e4-a540730c8bad\",\"roots\":{\"p1002\":\"b4d66e9d-65f1-46a7-8763-c1d464bce2ac\"},\"root_ids\":[\"p1002\"]}];\n",
       "  var docs = Object.values(docs_json)\n",
       "  if (!docs) {\n",
       "    return\n",
       "  }\n",
       "  const py_version = docs[0].version.replace('rc', '-rc.').replace('.dev', '-dev.')\n",
       "  function embed_document(root) {\n",
       "    var Bokeh = get_bokeh(root)\n",
       "    Bokeh.embed.embed_items_notebook(docs_json, render_items);\n",
       "    for (const render_item of render_items) {\n",
       "      for (const root_id of render_item.root_ids) {\n",
       "\tconst id_el = document.getElementById(root_id)\n",
       "\tif (id_el.children.length && (id_el.children[0].className === 'bk-root')) {\n",
       "\t  const root_el = id_el.children[0]\n",
       "\t  root_el.id = root_el.id + '-rendered'\n",
       "\t}\n",
       "      }\n",
       "    }\n",
       "  }\n",
       "  function get_bokeh(root) {\n",
       "    if (root.Bokeh === undefined) {\n",
       "      return null\n",
       "    } else if (root.Bokeh.version !== py_version) {\n",
       "      if (root.Bokeh.versions === undefined || !root.Bokeh.versions.has(py_version)) {\n",
       "\treturn null\n",
       "      }\n",
       "      return root.Bokeh.versions.get(py_version);\n",
       "    } else if (root.Bokeh.version === py_version) {\n",
       "      return root.Bokeh\n",
       "    }\n",
       "    return null\n",
       "  }\n",
       "  function is_loaded(root) {\n",
       "    var Bokeh = get_bokeh(root)\n",
       "    return (Bokeh != null && Bokeh.Panel !== undefined)\n",
       "  }\n",
       "  if (is_loaded(root)) {\n",
       "    embed_document(root);\n",
       "  } else {\n",
       "    var attempts = 0;\n",
       "    var timer = setInterval(function(root) {\n",
       "      if (is_loaded(root)) {\n",
       "        clearInterval(timer);\n",
       "        embed_document(root);\n",
       "      } else if (document.readyState == \"complete\") {\n",
       "        attempts++;\n",
       "        if (attempts > 200) {\n",
       "          clearInterval(timer);\n",
       "\t  var Bokeh = get_bokeh(root)\n",
       "\t  if (Bokeh == null || Bokeh.Panel == null) {\n",
       "            console.warn(\"Panel: ERROR: Unable to run Panel code because Bokeh or Panel library is missing\");\n",
       "\t  } else {\n",
       "\t    console.warn(\"Panel: WARNING: Attempting to render but not all required libraries could be resolved.\")\n",
       "\t    embed_document(root)\n",
       "\t  }\n",
       "        }\n",
       "      }\n",
       "    }, 25, root)\n",
       "  }\n",
       "})(window);</script>"
      ]
     },
     "metadata": {
      "application/vnd.holoviews_exec.v0+json": {
       "id": "p1002"
      }
     },
     "output_type": "display_data"
    }
   ],
   "source": [
    "# Import\n",
    "import pandas as pd\n",
    "import numpy as np\n",
    "import hvplot.pandas\n",
    "import matplotlib.pyplot as plt\n",
    "from pathlib import Path\n",
    "from finta import TA\n",
    "from talib import RSI, BBANDS\n",
    "\n",
    "# Allow for reviewing more of the DataFrames\n",
    "pd.set_option('display.max_rows', 2000)\n",
    "pd.set_option('display.max_columns', 2000)\n",
    "pd.set_option('display.width', 1000)\n",
    "%matplotlib inline\n",
    "\n",
    "import warnings\n",
    "warnings.filterwarnings('ignore')"
   ]
  },
  {
   "cell_type": "code",
   "execution_count": 2,
   "metadata": {},
   "outputs": [],
   "source": [
    "# Imports required for automated plot to PNG saves (one time use)\n",
    "\n",
    "# import holoviews as hv\n",
    "# hv.extension('bokeh')\n",
    "\n",
    "# # selenium 4\n",
    "# from selenium import webdriver\n",
    "# from selenium.webdriver.chrome.service import Service as ChromeService\n",
    "# from webdriver_manager.chrome import ChromeDriverManager\n",
    "\n",
    "# driver = webdriver.Chrome(service=ChromeService(ChromeDriverManager().install()))"
   ]
  },
  {
   "cell_type": "code",
   "execution_count": 3,
   "metadata": {},
   "outputs": [],
   "source": [
    "# Read in the CSV files that contain SMA, EMA, and BB/RSI inidcators based on ratio data\n",
    "googl_df = pd.read_csv(\"Resources/googl_ratio_indicators.csv\", infer_datetime_format=True, index_col=\"Date\", parse_dates=True)\n",
    "nvda_df = pd.read_csv(\"Resources/nvda_ratio_indicators.csv\", infer_datetime_format=True, index_col=\"Date\", parse_dates=True)\n",
    "mmm_df = pd.read_csv(\"Resources/mmm_ratio_indicators.csv\", infer_datetime_format=True, index_col=\"Date\", parse_dates=True)\n",
    "pg_df = pd.read_csv(\"Resources/pg_ratio_indicators.csv\", infer_datetime_format=True, index_col=\"Date\", parse_dates=True)"
   ]
  },
  {
   "cell_type": "code",
   "execution_count": 4,
   "metadata": {},
   "outputs": [],
   "source": [
    "# Create a list of tuples containing the stock DataFrames and their respective columns for iteration\n",
    "ticker_data_all = [\n",
    "    (googl_df, [(\"GOOGL P/S (LTM)\", \"ps\"), (\"GOOGL P/FCF (LTM)\", \"pfcf\"), (\"GOOGL P/E (LTM)\", \"pe\")]),\n",
    "    (nvda_df, [(\"NVDA P/S (LTM)\", \"ps\"), (\"NVDA P/FCF (LTM)\", \"pfcf\"), (\"NVDA P/E (LTM)\", \"pe\")]),\n",
    "    (mmm_df, [(\"MMM P/S (LTM)\", \"ps\"), (\"MMM P/FCF (LTM)\", \"pfcf\"), (\"MMM P/E (LTM)\", \"pe\")]),\n",
    "    (pg_df, [(\"PG P/S (LTM)\", \"ps\"), (\"PG P/FCF (LTM)\", \"pfcf\"), (\"PG P/E (LTM)\", \"pe\")]),\n",
    "]"
   ]
  },
  {
   "cell_type": "code",
   "execution_count": 5,
   "metadata": {},
   "outputs": [],
   "source": [
    "# Create and Populate the \"signal\" column for signal DataFrames\n",
    "for df, metrics in ticker_data_all:\n",
    "    for column_name, prefix, in metrics:\n",
    "        df[f'{prefix}_Signal_sma'] = 0.0\n",
    "        df[f'{prefix}_Signal_ema'] = 0.0\n",
    "        df[f'{prefix}_Signal_sma30'] = 0.0\n",
    "        df[f'{prefix}_Signal_ema30'] = 0.0"
   ]
  },
  {
   "cell_type": "code",
   "execution_count": 6,
   "metadata": {},
   "outputs": [],
   "source": [
    "# Generate the trading signal 0 or 1,\n",
    "# where 1 is when sma_fast is greater than sma_slow or ema_fast is greater than ema_slow\n",
    "# and 0 otherwise\n",
    "for df, metrics in ticker_data_all:\n",
    "    for column_name, prefix in metrics:\n",
    "        # Apply the condition to set the 'Signal' column\n",
    "        df[f'{prefix}_Signal_sma'] = np.where(df[f'{prefix}_sma_slow'] > df[f'{prefix}_sma_fast'], 1.0, 0.0)\n",
    "        df[f'{prefix}_Signal_ema'] = np.where(df[f'{prefix}_ema_slow'] > df[f'{prefix}_ema_fast'], 1.0, 0.0)\n",
    "        df[f'{prefix}_Signal_sma30'] = np.where(df[f'{prefix}_sma_slow'] > df[f'{prefix}_sma_fast30'], 1.0, 0.0)\n",
    "        df[f'{prefix}_Signal_ema30'] = np.where(df[f'{prefix}_ema_slow'] > df[f'{prefix}_ema_fast30'], 1.0, 0.0)\n",
    "\n",
    "# Note: SMA and EMA fast and slow signals positions have been reversed in the signal equasion to reflect the fact that\n",
    "# Note: they have been calculated based on the ratio data (P/S, P/FCF, P/E) where a lower value is preferred"
   ]
  },
  {
   "cell_type": "code",
   "execution_count": 7,
   "metadata": {},
   "outputs": [],
   "source": [
    "# Calculate the points in time when the Signal value changes\n",
    "# Identify trade entry (1) and exit (-1) points\n",
    "for df, metrics in ticker_data_all:\n",
    "    for column_name, prefix in metrics:\n",
    "        df[f'{prefix}_Entry/Exit_sma'] = df[f'{prefix}_Signal_sma'].diff()\n",
    "        df[f'{prefix}_Entry/Exit_ema'] = df[f'{prefix}_Signal_ema'].diff()\n",
    "        df[f'{prefix}_Entry/Exit_sma30'] = df[f'{prefix}_Signal_sma30'].diff()\n",
    "        df[f'{prefix}_Entry/Exit_ema30'] = df[f'{prefix}_Signal_ema30'].diff()"
   ]
  },
  {
   "cell_type": "markdown",
   "metadata": {},
   "source": [
    "### SMA (10/100, from ratios) Entry/Exit Plots"
   ]
  },
  {
   "cell_type": "code",
   "execution_count": 8,
   "metadata": {},
   "outputs": [],
   "source": [
    "# Initialize a dictionary to store the plots for SMA strategy from each ratio for each stock\n",
    "plots_sma = {}\n",
    "\n",
    "for df, metrics in ticker_data_all:\n",
    "    for column_name, prefix in metrics:\n",
    "        \n",
    "        # Extract the stock symbol from the column names (assuming 'Adj. Close' is part of the name)\n",
    "        stock_symbol = [col for col in df.columns if 'Adj. Close' in col][0].split()[0]\n",
    "        \n",
    "        # Plot exit positions\n",
    "        exit = df[df[f'{prefix}_Entry/Exit_sma'] == -1.0][f'{stock_symbol} Adj. Close'].hvplot.scatter(\n",
    "            color='orange',\n",
    "            marker='v',\n",
    "            size=200,\n",
    "            legend=False,\n",
    "            ylabel='Price in $',\n",
    "            width=1000,\n",
    "            height=400\n",
    "        )\n",
    "\n",
    "        # Plot entry positions\n",
    "        entry = df[df[f'{prefix}_Entry/Exit_sma'] == 1.0][f'{stock_symbol} Adj. Close'].hvplot.scatter(\n",
    "            color='purple',\n",
    "            marker='^',\n",
    "            size=200,\n",
    "            legend=False,\n",
    "            ylabel='Price in $',\n",
    "            width=1000,\n",
    "            height=400\n",
    "        )\n",
    "\n",
    "        # Plot security close price\n",
    "        security_close = df[[f'{stock_symbol} Adj. Close']].hvplot(\n",
    "            line_color='lightgray',\n",
    "            ylabel='Price in $',\n",
    "            width=1000,\n",
    "            height=400\n",
    "        )\n",
    "\n",
    "        # Plot moving averages\n",
    "        moving_avgs = df[[f'{prefix}_sma_fast', f'{prefix}_sma_slow']].hvplot(\n",
    "            ylabel='Price in $',\n",
    "            width=1000,\n",
    "            height=400\n",
    "        )\n",
    "\n",
    "        # Create the overlay plot\n",
    "        entry_exit_plot = security_close * moving_avgs * entry * exit\n",
    "\n",
    "        # Set the title dynamically based on the stock symbol\n",
    "        entry_exit_plot = entry_exit_plot.opts(\n",
    "            title=f\"{stock_symbol} - SMA10, SMA100, Entry and Exit Points - from {prefix.upper()} Ratio\"\n",
    "        )\n",
    "\n",
    "        # Store the plot in the dictionary using the stock symbol and ratio prefix as key\n",
    "        \n",
    "        plots_sma[f\"{stock_symbol}_{prefix}\"] = entry_exit_plot"
   ]
  },
  {
   "cell_type": "markdown",
   "metadata": {},
   "source": [
    "### SMA (30/100, from ratios) Entry/Exit Plots"
   ]
  },
  {
   "cell_type": "code",
   "execution_count": 9,
   "metadata": {},
   "outputs": [],
   "source": [
    "# Initialize a dictionary to store the plots for SMA strategy from each ratio for each stock\n",
    "plots_sma30 = {}\n",
    "\n",
    "for df, metrics in ticker_data_all:\n",
    "    for column_name, prefix in metrics:\n",
    "        \n",
    "        # Extract the stock symbol from the column names (assuming 'Adj. Close' is part of the name)\n",
    "        stock_symbol = [col for col in df.columns if 'Adj. Close' in col][0].split()[0]\n",
    "        \n",
    "        # Plot exit positions\n",
    "        exit = df[df[f'{prefix}_Entry/Exit_sma30'] == -1.0][f'{stock_symbol} Adj. Close'].hvplot.scatter(\n",
    "            color='orange',\n",
    "            marker='v',\n",
    "            size=200,\n",
    "            legend=False,\n",
    "            ylabel='Price in $',\n",
    "            width=1000,\n",
    "            height=400\n",
    "        )\n",
    "\n",
    "        # Plot entry positions\n",
    "        entry = df[df[f'{prefix}_Entry/Exit_sma30'] == 1.0][f'{stock_symbol} Adj. Close'].hvplot.scatter(\n",
    "            color='purple',\n",
    "            marker='^',\n",
    "            size=200,\n",
    "            legend=False,\n",
    "            ylabel='Price in $',\n",
    "            width=1000,\n",
    "            height=400\n",
    "        )\n",
    "\n",
    "        # Plot security close price\n",
    "        security_close = df[[f'{stock_symbol} Adj. Close']].hvplot(\n",
    "            line_color='lightgray',\n",
    "            ylabel='Price in $',\n",
    "            width=1000,\n",
    "            height=400\n",
    "        )\n",
    "\n",
    "        # Plot moving averages\n",
    "        moving_avgs = df[[f'{prefix}_sma_fast30', f'{prefix}_sma_slow']].hvplot(\n",
    "            ylabel='Price in $',\n",
    "            width=1000,\n",
    "            height=400\n",
    "        )\n",
    "\n",
    "        # Create the overlay plot\n",
    "        entry_exit_plot = security_close * moving_avgs * entry * exit\n",
    "\n",
    "        # Set the title dynamically based on the stock symbol\n",
    "        entry_exit_plot = entry_exit_plot.opts(\n",
    "            title=f\"{stock_symbol} - SMA30, SMA100, Entry and Exit Points - from {prefix.upper()} Ratio\"\n",
    "        )\n",
    "\n",
    "        # Store the plot in the dictionary using the stock symbol and ratio prefix as key\n",
    "        \n",
    "        plots_sma30[f\"{stock_symbol}_{prefix}\"] = entry_exit_plot"
   ]
  },
  {
   "cell_type": "markdown",
   "metadata": {},
   "source": [
    "### EMA (10/100, from ratios) Entry/Exit Plots"
   ]
  },
  {
   "cell_type": "code",
   "execution_count": 10,
   "metadata": {},
   "outputs": [],
   "source": [
    "# Initialize a dictionary to store the plots for SMA strategy from each ratio for each stock\n",
    "plots_ema = {}\n",
    "\n",
    "for df, metrics in ticker_data_all:\n",
    "    for column_name, prefix in metrics:\n",
    "        \n",
    "        # Extract the stock symbol from the column names (assuming 'Adj. Close' is part of the name)\n",
    "        stock_symbol = [col for col in df.columns if 'Adj. Close' in col][0].split()[0]\n",
    "        \n",
    "        # Plot exit positions\n",
    "        exit = df[df[f'{prefix}_Entry/Exit_ema'] == -1.0][f'{stock_symbol} Adj. Close'].hvplot.scatter(\n",
    "            color='orange',\n",
    "            marker='v',\n",
    "            size=200,\n",
    "            legend=False,\n",
    "            ylabel='Price in $',\n",
    "            width=1000,\n",
    "            height=400\n",
    "        )\n",
    "\n",
    "        # Plot entry positions\n",
    "        entry = df[df[f'{prefix}_Entry/Exit_ema'] == 1.0][f'{stock_symbol} Adj. Close'].hvplot.scatter(\n",
    "            color='purple',\n",
    "            marker='^',\n",
    "            size=200,\n",
    "            legend=False,\n",
    "            ylabel='Price in $',\n",
    "            width=1000,\n",
    "            height=400\n",
    "        )\n",
    "\n",
    "        # Plot security close price\n",
    "        security_close = df[[f'{stock_symbol} Adj. Close']].hvplot(\n",
    "            line_color='lightgray',\n",
    "            ylabel='Price in $',\n",
    "            width=1000,\n",
    "            height=400\n",
    "        )\n",
    "\n",
    "        # Plot moving averages\n",
    "        moving_avgs = df[[f'{prefix}_ema_fast', f'{prefix}_ema_slow']].hvplot(\n",
    "            ylabel='Price in $',\n",
    "            width=1000,\n",
    "            height=400\n",
    "        )\n",
    "\n",
    "        # Create the overlay plot\n",
    "        entry_exit_plot = security_close * moving_avgs * entry * exit\n",
    "\n",
    "        # Set the title dynamically based on the stock symbol\n",
    "        entry_exit_plot = entry_exit_plot.opts(\n",
    "            title=f\"{stock_symbol} - EMA10, EMA100, Entry and Exit Points - from {prefix.upper()} Ratio\"\n",
    "        )\n",
    "\n",
    "        # Store the plot in the dictionary using the stock symbol and ratio prefix as key\n",
    "        \n",
    "        plots_ema[f\"{stock_symbol}_{prefix}\"] = entry_exit_plot"
   ]
  },
  {
   "cell_type": "markdown",
   "metadata": {},
   "source": [
    "### EMA (30/100, from ratios) Entry/Exit Plots"
   ]
  },
  {
   "cell_type": "code",
   "execution_count": 11,
   "metadata": {},
   "outputs": [],
   "source": [
    "# Initialize a dictionary to store the plots for SMA strategy from each ratio for each stock\n",
    "plots_ema30 = {}\n",
    "\n",
    "for df, metrics in ticker_data_all:\n",
    "    for column_name, prefix in metrics:\n",
    "        \n",
    "        # Extract the stock symbol from the column names (assuming 'Adj. Close' is part of the name)\n",
    "        stock_symbol = [col for col in df.columns if 'Adj. Close' in col][0].split()[0]\n",
    "        \n",
    "        # Plot exit positions\n",
    "        exit = df[df[f'{prefix}_Entry/Exit_ema30'] == -1.0][f'{stock_symbol} Adj. Close'].hvplot.scatter(\n",
    "            color='orange',\n",
    "            marker='v',\n",
    "            size=200,\n",
    "            legend=False,\n",
    "            ylabel='Price in $',\n",
    "            width=1000,\n",
    "            height=400\n",
    "        )\n",
    "\n",
    "        # Plot entry positions\n",
    "        entry = df[df[f'{prefix}_Entry/Exit_ema30'] == 1.0][f'{stock_symbol} Adj. Close'].hvplot.scatter(\n",
    "            color='purple',\n",
    "            marker='^',\n",
    "            size=200,\n",
    "            legend=False,\n",
    "            ylabel='Price in $',\n",
    "            width=1000,\n",
    "            height=400\n",
    "        )\n",
    "\n",
    "        # Plot security close price\n",
    "        security_close = df[[f'{stock_symbol} Adj. Close']].hvplot(\n",
    "            line_color='lightgray',\n",
    "            ylabel='Price in $',\n",
    "            width=1000,\n",
    "            height=400\n",
    "        )\n",
    "\n",
    "        # Plot moving averages\n",
    "        moving_avgs = df[[f'{prefix}_ema_fast30', f'{prefix}_ema_slow']].hvplot(\n",
    "            ylabel='Price in $',\n",
    "            width=1000,\n",
    "            height=400\n",
    "        )\n",
    "\n",
    "        # Create the overlay plot\n",
    "        entry_exit_plot = security_close * moving_avgs * entry * exit\n",
    "\n",
    "        # Set the title dynamically based on the stock symbol\n",
    "        entry_exit_plot = entry_exit_plot.opts(\n",
    "            title=f\"{stock_symbol} - EMA30, EMA100, Entry and Exit Points - from {prefix.upper()} Ratio\"\n",
    "        )\n",
    "\n",
    "        # Store the plot in the dictionary using the stock symbol and ratio prefix as key\n",
    "        \n",
    "        plots_ema30[f\"{stock_symbol}_{prefix}\"] = entry_exit_plot"
   ]
  },
  {
   "cell_type": "markdown",
   "metadata": {},
   "source": [
    "### Investment Capital Tracking"
   ]
  },
  {
   "cell_type": "code",
   "execution_count": 12,
   "metadata": {},
   "outputs": [],
   "source": [
    "# Set initial investment capital\n",
    "initial_capital = float(100000)\n",
    "\n",
    "# Set the share size per transaction\n",
    "share_size = 500"
   ]
  },
  {
   "cell_type": "code",
   "execution_count": 13,
   "metadata": {},
   "outputs": [],
   "source": [
    "# Creating a position column to store the number of shares held\n",
    "# Buy a 500 share position when the dual moving average crossover Signal equals 1\n",
    "# Otherwise, `Position` should be zero (sell)\n",
    "\n",
    "for df, metrics in ticker_data_all:\n",
    "    for column_name, prefix in metrics:\n",
    "        df[f'{prefix}_Position_sma'] = share_size * df[f'{prefix}_Signal_sma']\n",
    "        df[f'{prefix}_Position_ema'] = share_size * df[f'{prefix}_Signal_ema']\n",
    "        df[f'{prefix}_Position_sma30'] = share_size * df[f'{prefix}_Signal_sma30']\n",
    "        df[f'{prefix}_Position_ema30'] = share_size * df[f'{prefix}_Signal_ema30']"
   ]
  },
  {
   "cell_type": "code",
   "execution_count": 14,
   "metadata": {},
   "outputs": [],
   "source": [
    "# Determine the points in time where the share position is bought or sold\n",
    "for df, metrics in ticker_data_all:\n",
    "    for column_name, prefix in metrics:\n",
    "        df[f'{prefix}_Entry/Exit Position_sma'] = df[f'{prefix}_Position_sma'].diff()\n",
    "        df[f'{prefix}_Entry/Exit Position_ema'] = df[f'{prefix}_Position_ema'].diff()\n",
    "        df[f'{prefix}_Entry/Exit Position_sma30'] = df[f'{prefix}_Position_sma30'].diff()\n",
    "        df[f'{prefix}_Entry/Exit Position_ema30'] = df[f'{prefix}_Position_ema30'].diff()"
   ]
  },
  {
   "cell_type": "code",
   "execution_count": 15,
   "metadata": {},
   "outputs": [],
   "source": [
    "# Multiply the close price by the number of shares held, or the Position\n",
    "for df, metrics in ticker_data_all:\n",
    "    for column_name, prefix in metrics:\n",
    "        adj_close_col = [col for col in df.columns if 'Adj. Close' in col][0].split()[0]\n",
    "        df[f'{prefix}_Portfolio Holdings_sma'] = df[f'{adj_close_col} Adj. Close'] * df[f'{prefix}_Position_sma']\n",
    "        df[f'{prefix}_Portfolio Holdings_ema'] = df[f'{adj_close_col} Adj. Close'] * df[f'{prefix}_Position_ema']\n",
    "        df[f'{prefix}_Portfolio Holdings_sma30'] = df[f'{adj_close_col} Adj. Close'] * df[f'{prefix}_Position_sma30']\n",
    "        df[f'{prefix}_Portfolio Holdings_ema30'] = df[f'{adj_close_col} Adj. Close'] * df[f'{prefix}_Position_ema30']"
   ]
  },
  {
   "cell_type": "code",
   "execution_count": 16,
   "metadata": {},
   "outputs": [],
   "source": [
    "# Subtract the amount of either the cost or proceeds of the trade from the initial capital invested\n",
    "for df, metrics in ticker_data_all:\n",
    "    for column_name, prefix in metrics:\n",
    "        adj_close_col = [col for col in df.columns if 'Adj. Close' in col][0].split()[0]\n",
    "        df[f'{prefix}_Portfolio Cash_sma'] = initial_capital - (df[f'{adj_close_col} Adj. Close'] * df[f'{prefix}_Entry/Exit Position_sma']).cumsum()\n",
    "        df[f'{prefix}_Portfolio Cash_ema'] = initial_capital - (df[f'{adj_close_col} Adj. Close'] * df[f'{prefix}_Entry/Exit Position_ema']).cumsum()\n",
    "        df[f'{prefix}_Portfolio Cash_sma30'] = initial_capital - (df[f'{adj_close_col} Adj. Close'] * df[f'{prefix}_Entry/Exit Position_sma30']).cumsum()\n",
    "        df[f'{prefix}_Portfolio Cash_ema30'] = initial_capital - (df[f'{adj_close_col} Adj. Close'] * df[f'{prefix}_Entry/Exit Position_ema30']).cumsum()"
   ]
  },
  {
   "cell_type": "code",
   "execution_count": 17,
   "metadata": {},
   "outputs": [],
   "source": [
    "# Calculate the total portfolio value by adding the portfolio cash to the portfolio holdings (or investments)\n",
    "for df, metrics in ticker_data_all:\n",
    "    for column_name, prefix in metrics:\n",
    "        df[f'{prefix}_Portfolio Total_sma'] = df[f'{prefix}_Portfolio Cash_sma'] + df[f'{prefix}_Portfolio Holdings_sma']\n",
    "        df[f'{prefix}_Portfolio Total_ema'] = df[f'{prefix}_Portfolio Cash_ema'] + df[f'{prefix}_Portfolio Holdings_ema']\n",
    "        df[f'{prefix}_Portfolio Total_sma30'] = df[f'{prefix}_Portfolio Cash_sma30'] + df[f'{prefix}_Portfolio Holdings_sma30']\n",
    "        df[f'{prefix}_Portfolio Total_ema30'] = df[f'{prefix}_Portfolio Cash_ema30'] + df[f'{prefix}_Portfolio Holdings_ema30']"
   ]
  },
  {
   "cell_type": "code",
   "execution_count": 18,
   "metadata": {},
   "outputs": [],
   "source": [
    "# Calculate the portfolio daily returns\n",
    "for df, metrics in ticker_data_all:\n",
    "    for column_name, prefix in metrics:\n",
    "        df[f'{prefix}_Portfolio Daily Returns_sma'] = df[f'{prefix}_Portfolio Total_sma'].pct_change()\n",
    "        df[f'{prefix}_Portfolio Daily Returns_ema'] = df[f'{prefix}_Portfolio Total_ema'].pct_change()\n",
    "        df[f'{prefix}_Portfolio Daily Returns_sma30'] = df[f'{prefix}_Portfolio Total_sma30'].pct_change()\n",
    "        df[f'{prefix}_Portfolio Daily Returns_ema30'] = df[f'{prefix}_Portfolio Total_ema30'].pct_change()"
   ]
  },
  {
   "cell_type": "code",
   "execution_count": 19,
   "metadata": {},
   "outputs": [],
   "source": [
    "# Calculate the portfolio cumulative returns\n",
    "for df, metrics in ticker_data_all:\n",
    "    for column_name, prefix in metrics:\n",
    "        df[f'{prefix}_Portfolio Cumulative Returns_sma'] = (1 + df[f'{prefix}_Portfolio Daily Returns_sma']).cumprod() - 1\n",
    "        df[f'{prefix}_Portfolio Cumulative Returns_ema'] = (1 + df[f'{prefix}_Portfolio Daily Returns_ema']).cumprod() - 1\n",
    "        df[f'{prefix}_Portfolio Cumulative Returns_sma30'] = (1 + df[f'{prefix}_Portfolio Daily Returns_sma30']).cumprod() - 1\n",
    "        df[f'{prefix}_Portfolio Cumulative Returns_ema30'] = (1 + df[f'{prefix}_Portfolio Daily Returns_ema30']).cumprod() - 1"
   ]
  },
  {
   "cell_type": "markdown",
   "metadata": {},
   "source": [
    "### SMA (10/100, from ratios) Portfolio Value Plots for each ticker"
   ]
  },
  {
   "cell_type": "code",
   "execution_count": 20,
   "metadata": {},
   "outputs": [],
   "source": [
    "# Initialize a dictionary to store the plots\n",
    "plots_sma_portfolio_value = {}\n",
    "\n",
    "for df, metrics in ticker_data_all:\n",
    "    for column_name, prefix in metrics:\n",
    "        \n",
    "        # Extract the stock symbol from the column names (assuming 'Adj. Close' is part of the name)\n",
    "        stock_symbol = [col for col in df.columns if 'Adj. Close' in col][0].split()[0]\n",
    "        \n",
    "        # Visualize exit position relative to total portfolio value\n",
    "        exit = df[df[f'{prefix}_Entry/Exit_sma'] == -1.0][f'{prefix}_Portfolio Total_sma'].hvplot.scatter(\n",
    "            color='orange',\n",
    "            marker='v',\n",
    "            size=200,\n",
    "            legend=False,\n",
    "            ylabel='Total Portfolio Value',\n",
    "            width=1000,\n",
    "            height=400\n",
    "        )\n",
    "\n",
    "        # Visualize entry position relative to total portfolio value\n",
    "        entry = df[df[f'{prefix}_Entry/Exit_sma'] == 1.0][f'{prefix}_Portfolio Total_sma'].hvplot.scatter(\n",
    "            color='purple',\n",
    "            marker='^',\n",
    "            size=200,\n",
    "            ylabel='Total Portfolio Value',\n",
    "            width=1000,\n",
    "            height=400\n",
    "        )\n",
    "\n",
    "        # Visualize the value of the total portfolio\n",
    "        total_portfolio_value = df[[f'{prefix}_Portfolio Total_sma']].hvplot(\n",
    "            line_color='lightgray',\n",
    "            ylabel='Total Portfolio Value',\n",
    "            xlabel='Date',\n",
    "            width=1000,\n",
    "            height=400\n",
    "        )\n",
    "\n",
    "        # Overlay the plots\n",
    "        portfolio_entry_exit_plot = total_portfolio_value * entry * exit\n",
    "\n",
    "        # Set the title dynamically based on the stock symbol\n",
    "        portfolio_entry_exit_plot = portfolio_entry_exit_plot.opts(\n",
    "            title=f\"{stock_symbol} - SMA10, SMA100, Total Portfolio Value - from {prefix.upper()} Ratio\",\n",
    "            yformatter='%.0f'\n",
    "        )\n",
    "\n",
    "        # Store the plot in the dictionary using the stock symbol as key\n",
    "        plots_sma_portfolio_value[f\"{stock_symbol}_{prefix}\"] = portfolio_entry_exit_plot"
   ]
  },
  {
   "cell_type": "markdown",
   "metadata": {},
   "source": [
    "### SMA (30/100, from ratios) Portfolio Value Plots for each ticker"
   ]
  },
  {
   "cell_type": "code",
   "execution_count": 21,
   "metadata": {},
   "outputs": [],
   "source": [
    "# Initialize a dictionary to store the plots\n",
    "plots_sma30_portfolio_value = {}\n",
    "\n",
    "for df, metrics in ticker_data_all:\n",
    "    for column_name, prefix in metrics:\n",
    "        \n",
    "        # Extract the stock symbol from the column names (assuming 'Adj. Close' is part of the name)\n",
    "        stock_symbol = [col for col in df.columns if 'Adj. Close' in col][0].split()[0]\n",
    "        \n",
    "        # Visualize exit position relative to total portfolio value\n",
    "        exit = df[df[f'{prefix}_Entry/Exit_sma30'] == -1.0][f'{prefix}_Portfolio Total_sma30'].hvplot.scatter(\n",
    "            color='orange',\n",
    "            marker='v',\n",
    "            size=200,\n",
    "            legend=False,\n",
    "            ylabel='Total Portfolio Value',\n",
    "            width=1000,\n",
    "            height=400\n",
    "        )\n",
    "\n",
    "        # Visualize entry position relative to total portfolio value\n",
    "        entry = df[df[f'{prefix}_Entry/Exit_sma30'] == 1.0][f'{prefix}_Portfolio Total_sma30'].hvplot.scatter(\n",
    "            color='purple',\n",
    "            marker='^',\n",
    "            size=200,\n",
    "            ylabel='Total Portfolio Value',\n",
    "            width=1000,\n",
    "            height=400\n",
    "        )\n",
    "\n",
    "        # Visualize the value of the total portfolio\n",
    "        total_portfolio_value = df[[f'{prefix}_Portfolio Total_sma30']].hvplot(\n",
    "            line_color='lightgray',\n",
    "            ylabel='Total Portfolio Value',\n",
    "            xlabel='Date',\n",
    "            width=1000,\n",
    "            height=400\n",
    "        )\n",
    "\n",
    "        # Overlay the plots\n",
    "        portfolio_entry_exit_plot = total_portfolio_value * entry * exit\n",
    "\n",
    "        # Set the title dynamically based on the stock symbol\n",
    "        portfolio_entry_exit_plot = portfolio_entry_exit_plot.opts(\n",
    "            title=f\"{stock_symbol} - SMA30, SMA100, Total Portfolio Value - from {prefix.upper()} Ratio\",\n",
    "            yformatter='%.0f'\n",
    "        )\n",
    "\n",
    "        # Store the plot in the dictionary using the stock symbol as key\n",
    "        plots_sma30_portfolio_value[f\"{stock_symbol}_{prefix}\"] = portfolio_entry_exit_plot"
   ]
  },
  {
   "cell_type": "markdown",
   "metadata": {},
   "source": [
    "### EMA (10/100, from ratios) Portfolio Value Plots for each ticker"
   ]
  },
  {
   "cell_type": "code",
   "execution_count": 22,
   "metadata": {},
   "outputs": [],
   "source": [
    "# Initialize a dictionary to store the plots\n",
    "plots_ema_portfolio_value = {}\n",
    "\n",
    "for df, metrics in ticker_data_all:\n",
    "    for column_name, prefix in metrics:\n",
    "        \n",
    "        # Extract the stock symbol from the column names (assuming 'Adj. Close' is part of the name)\n",
    "        stock_symbol = [col for col in df.columns if 'Adj. Close' in col][0].split()[0]\n",
    "        \n",
    "        # Visualize exit position relative to total portfolio value\n",
    "        exit = df[df[f'{prefix}_Entry/Exit_ema'] == -1.0][f'{prefix}_Portfolio Total_ema'].hvplot.scatter(\n",
    "            color='orange',\n",
    "            marker='v',\n",
    "            size=200,\n",
    "            legend=False,\n",
    "            ylabel='Total Portfolio Value',\n",
    "            width=1000,\n",
    "            height=400\n",
    "        )\n",
    "\n",
    "        # Visualize entry position relative to total portfolio value\n",
    "        entry = df[df[f'{prefix}_Entry/Exit_ema'] == 1.0][f'{prefix}_Portfolio Total_ema'].hvplot.scatter(\n",
    "            color='purple',\n",
    "            marker='^',\n",
    "            size=200,\n",
    "            ylabel='Total Portfolio Value',\n",
    "            width=1000,\n",
    "            height=400\n",
    "        )\n",
    "\n",
    "        # Visualize the value of the total portfolio\n",
    "        total_portfolio_value = df[[f'{prefix}_Portfolio Total_ema']].hvplot(\n",
    "            line_color='lightgray',\n",
    "            ylabel='Total Portfolio Value',\n",
    "            xlabel='Date',\n",
    "            width=1000,\n",
    "            height=400\n",
    "        )\n",
    "\n",
    "        # Overlay the plots\n",
    "        portfolio_entry_exit_plot = total_portfolio_value * entry * exit\n",
    "\n",
    "        # Set the title dynamically based on the stock symbol\n",
    "        portfolio_entry_exit_plot = portfolio_entry_exit_plot.opts(\n",
    "            title=f\"{stock_symbol} - EMA10, EMA100, Total Portfolio Value - from {prefix.upper()} Ratio\",\n",
    "            yformatter='%.0f'\n",
    "        )\n",
    "\n",
    "        # Store the plot in the dictionary using the stock symbol as key\n",
    "        plots_ema_portfolio_value[f\"{stock_symbol}_{prefix}\"] = portfolio_entry_exit_plot"
   ]
  },
  {
   "cell_type": "markdown",
   "metadata": {},
   "source": [
    "### EMA (30/100, from ratios) Portfolio Value Plots for each ticker"
   ]
  },
  {
   "cell_type": "code",
   "execution_count": 23,
   "metadata": {},
   "outputs": [],
   "source": [
    "# Initialize a dictionary to store the plots\n",
    "plots_ema30_portfolio_value = {}\n",
    "\n",
    "for df, metrics in ticker_data_all:\n",
    "    for column_name, prefix in metrics:\n",
    "        \n",
    "        # Extract the stock symbol from the column names (assuming 'Adj. Close' is part of the name)\n",
    "        stock_symbol = [col for col in df.columns if 'Adj. Close' in col][0].split()[0]\n",
    "        \n",
    "        # Visualize exit position relative to total portfolio value\n",
    "        exit = df[df[f'{prefix}_Entry/Exit_ema30'] == -1.0][f'{prefix}_Portfolio Total_ema30'].hvplot.scatter(\n",
    "            color='orange',\n",
    "            marker='v',\n",
    "            size=200,\n",
    "            legend=False,\n",
    "            ylabel='Total Portfolio Value',\n",
    "            width=1000,\n",
    "            height=400\n",
    "        )\n",
    "\n",
    "        # Visualize entry position relative to total portfolio value\n",
    "        entry = df[df[f'{prefix}_Entry/Exit_ema30'] == 1.0][f'{prefix}_Portfolio Total_ema30'].hvplot.scatter(\n",
    "            color='purple',\n",
    "            marker='^',\n",
    "            size=200,\n",
    "            ylabel='Total Portfolio Value',\n",
    "            width=1000,\n",
    "            height=400\n",
    "        )\n",
    "\n",
    "        # Visualize the value of the total portfolio\n",
    "        total_portfolio_value = df[[f'{prefix}_Portfolio Total_ema30']].hvplot(\n",
    "            line_color='lightgray',\n",
    "            ylabel='Total Portfolio Value',\n",
    "            xlabel='Date',\n",
    "            width=1000,\n",
    "            height=400\n",
    "        )\n",
    "\n",
    "        # Overlay the plots\n",
    "        portfolio_entry_exit_plot = total_portfolio_value * entry * exit\n",
    "\n",
    "        # Set the title dynamically based on the stock symbol\n",
    "        portfolio_entry_exit_plot = portfolio_entry_exit_plot.opts(\n",
    "            title=f\"{stock_symbol} - EMA30, EMA100, Total Portfolio Value - from {prefix.upper()} Ratio\",\n",
    "            yformatter='%.0f'\n",
    "        )\n",
    "\n",
    "        # Store the plot in the dictionary using the stock symbol as key\n",
    "        plots_ema30_portfolio_value[f\"{stock_symbol}_{prefix}\"] = portfolio_entry_exit_plot"
   ]
  },
  {
   "cell_type": "markdown",
   "metadata": {},
   "source": [
    "### Save all stock DataFrames as CSVs for training models"
   ]
  },
  {
   "cell_type": "code",
   "execution_count": 24,
   "metadata": {},
   "outputs": [
    {
     "data": {
      "text/plain": [
       "(1320, 132)"
      ]
     },
     "execution_count": 24,
     "metadata": {},
     "output_type": "execute_result"
    }
   ],
   "source": [
    "googl_df.shape"
   ]
  },
  {
   "cell_type": "code",
   "execution_count": null,
   "metadata": {},
   "outputs": [],
   "source": [
    "# Write individual stock DFs with signals and capital tracking to CSV files\n",
    "googl_df.to_csv('Resources/googl_signals.csv', index=True)\n",
    "nvda_df.to_csv('Resources/nvda_signals.csv', index=True)\n",
    "mmm_df.to_csv('Resources/mmm_signals.csv', index=True)\n",
    "pg_df.to_csv('Resources/pg_signals.csv', index=True)"
   ]
  },
  {
   "cell_type": "markdown",
   "metadata": {},
   "source": [
    "### Display All Plots"
   ]
  },
  {
   "cell_type": "code",
   "execution_count": null,
   "metadata": {},
   "outputs": [],
   "source": [
    "googl_df.columns"
   ]
  },
  {
   "cell_type": "code",
   "execution_count": null,
   "metadata": {},
   "outputs": [],
   "source": [
    "# Plot the SMA (10/100,from each ratio) entry and exit points for each stock\n",
    "# Note: This will display 12 plots (3 per stock)\n",
    "for plot in plots_sma.values():\n",
    "    display(plot)\n",
    "\n",
    "# Generate png files for the plots automatically (one time use)\n",
    "# for i, plot in enumerate(plots_sma.values(), start=1):\n",
    "#     hv.save(plot, f'plot_{i}.png', fmt='png')"
   ]
  },
  {
   "cell_type": "code",
   "execution_count": null,
   "metadata": {},
   "outputs": [],
   "source": [
    "# Plot the SMA (30/100,from each ratio) entry and exit points for each stock\n",
    "# Note: This will display 12 plots (3 per stock)\n",
    "for plot in plots_sma30.values():\n",
    "    display(plot)\n",
    "\n",
    "# Generate png files for the plots automatically (one time use)\n",
    "# for i, plot in enumerate(plots_sma30.values(), start=13):\n",
    "#     hv.save(plot, f'plot_{i}.png', fmt='png')"
   ]
  },
  {
   "cell_type": "code",
   "execution_count": null,
   "metadata": {},
   "outputs": [],
   "source": [
    "# Plot the EMA (10/100,from each ratio) entry and exit points for each stock\n",
    "# Note: This will display 12 plots (3 per stock)\n",
    "for plot in plots_ema.values():\n",
    "    display(plot)"
   ]
  },
  {
   "cell_type": "code",
   "execution_count": null,
   "metadata": {},
   "outputs": [],
   "source": [
    "# Plot the EMA (30/100,from each ratio) entry and exit points for each stock\n",
    "# Note: This will display 12 plots (3 per stock)\n",
    "for plot in plots_ema30.values():\n",
    "    display(plot)"
   ]
  },
  {
   "cell_type": "code",
   "execution_count": null,
   "metadata": {},
   "outputs": [],
   "source": [
    "# Plot the SMA (10/100,from each ratio) Total Portfolio Value for each stock\n",
    "# Note: This will display 12 plots (3 per stock)\n",
    "for plot in plots_sma_portfolio_value.values():\n",
    "    display(plot)"
   ]
  },
  {
   "cell_type": "code",
   "execution_count": null,
   "metadata": {},
   "outputs": [],
   "source": [
    "# Plot the SMA (30/100,from each ratio) Total Portfolio Value for each stock\n",
    "# Note: This will display 12 plots (3 per stock)\n",
    "for plot in plots_sma30_portfolio_value.values():\n",
    "    display(plot)"
   ]
  },
  {
   "cell_type": "code",
   "execution_count": null,
   "metadata": {},
   "outputs": [],
   "source": [
    "# Plot the EMA (10/100,from each ratio) Total Portfolio Value for each stock\n",
    "# Note: This will display 12 plots (3 per stock)\n",
    "for plot in plots_ema_portfolio_value.values():\n",
    "    display(plot)"
   ]
  },
  {
   "cell_type": "code",
   "execution_count": null,
   "metadata": {},
   "outputs": [],
   "source": [
    "# Plot the EMA (30/100,from each ratio) Total Portfolio Value for each stock\n",
    "# Note: This will display 12 plots (3 per stock)\n",
    "for plot in plots_ema30_portfolio_value.values():\n",
    "    display(plot)"
   ]
  }
 ],
 "metadata": {
  "kernelspec": {
   "display_name": "algotrading",
   "language": "python",
   "name": "python3"
  },
  "language_info": {
   "codemirror_mode": {
    "name": "ipython",
    "version": 3
   },
   "file_extension": ".py",
   "mimetype": "text/x-python",
   "name": "python",
   "nbconvert_exporter": "python",
   "pygments_lexer": "ipython3",
   "version": "3.10.13"
  }
 },
 "nbformat": 4,
 "nbformat_minor": 2
}
